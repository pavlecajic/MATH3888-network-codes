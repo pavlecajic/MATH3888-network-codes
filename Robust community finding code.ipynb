{
 "cells": [
  {
   "cell_type": "code",
   "execution_count": 2,
   "id": "060f9a69",
   "metadata": {},
   "outputs": [],
   "source": [
    "import networkx as nx\n",
    "from community import community_louvain as cm\n",
    "import numpy as np\n",
    "import scipy as sp\n",
    "from numpy import linalg as la\n",
    "import matplotlib.pyplot as plt"
   ]
  },
  {
   "cell_type": "code",
   "execution_count": 31,
   "id": "7b1ee3c3",
   "metadata": {},
   "outputs": [],
   "source": [
    "def robust_community(target,g):\n",
    "    global freq_dict\n",
    "    freq_dict={}\n",
    "    max=100\n",
    "    for node in list(g.nodes()):\n",
    "        freq_dict[node]=0\n",
    "    for i in range(0,max):\n",
    "        # louvain partition\n",
    "        partition = cm.best_partition(g)\n",
    "\n",
    "        target_module=partition[target]\n",
    "\n",
    "        for node in list(partition.keys()):\n",
    "            if partition[node]==target_module:\n",
    "                freq_dict[node]=freq_dict[node]+1\n",
    "    freq_dict_filt = dict((k, v) for k, v in freq_dict.items() if v > 0)\n",
    "    #Calculating size of module for each threshold\n",
    "    lengths=[]\n",
    "    for i in range(0,max):\n",
    "        freq_dict_filt = dict((k, v) for k, v in freq_dict.items() if v > i)\n",
    "        lengths.append(len(freq_dict_filt))\n",
    "    plt.plot(lengths)\n",
    "    plt.title('Frequency plot for nodes in {} community (100 trials)'.format(target))\n",
    "    plt.xlabel('Number of times appearing in {} community'.format(target))\n",
    "    plt.ylabel('Number of nodes')\n",
    "    plt.show()\n",
    "    return freq_dict"
   ]
  },
  {
   "cell_type": "code",
   "execution_count": 4,
   "id": "26b07515",
   "metadata": {},
   "outputs": [],
   "source": [
    "# read yeast protein interaction file\n",
    "g = nx.read_weighted_edgelist(\"4932.protein.links.v11.5.txt\",comments=\"#\",nodetype=str)"
   ]
  },
  {
   "cell_type": "code",
   "execution_count": 5,
   "id": "f668a2c7",
   "metadata": {},
   "outputs": [],
   "source": [
    "# thresholding\n",
    "threshold_score = 750\n",
    "for edge in g.edges: \n",
    "    weight = list(g.get_edge_data(edge[0],edge[1]).values())\n",
    "    if(weight[0] <= threshold_score):\n",
    "        g.remove_edge(edge[0],edge[1])"
   ]
  },
  {
   "cell_type": "code",
   "execution_count": 6,
   "id": "a3d7660d",
   "metadata": {},
   "outputs": [],
   "source": [
    "#remove essential nodes\n",
    "file = open(\"essential_nodes.txt\")\n",
    "for line in file.readlines():\n",
    "    node = line.strip()\n",
    "    if node in g:\n",
    "        g.remove_node(node)\n",
    "file.close()"
   ]
  },
  {
   "cell_type": "code",
   "execution_count": 7,
   "id": "628e5744",
   "metadata": {},
   "outputs": [
    {
     "name": "stdout",
     "output_type": "stream",
     "text": [
      "Graph with 4396 nodes and 44311 edges\n"
     ]
    }
   ],
   "source": [
    "#select largest component\n",
    "components = sorted(nx.connected_components(g), key=len, reverse=True)\n",
    "g = g.subgraph(components[0])\n",
    "print(g)"
   ]
  },
  {
   "cell_type": "code",
   "execution_count": 8,
   "id": "f82569c1",
   "metadata": {},
   "outputs": [
    {
     "name": "stdout",
     "output_type": "stream",
     "text": [
      "['4932.YDL106C', '4932.YDR451C', '4932.YML027W', '4932.YNL055C', '4932.YIL114C', '4932.YNL073W', '4932.YOR065W', '4932.YPL106C', '4932.YBR169C', '4932.YDR411C', '4932.YER177W', '4932.YDR099W', '4932.YNR051C', '4932.YNL121C', '4932.YHR117W', '4932.YIL016W', '4932.YAL005C', '4932.YLL024C', '4932.YBL075C', '4932.YER103W', '4932.YLR113W', '4932.YPR054W', '4932.YKR054C', '4932.YDR424C', '4932.YMR299C', '4932.YDR488C', '4932.YML124C', '4932.YPL116W', '4932.YIL095W']\n"
     ]
    }
   ],
   "source": [
    "# add new interactions\n",
    "file = open(\"new_interactions.txt\")\n",
    "g1=nx.Graph(g)\n",
    "new_interactions=[]\n",
    "for line in file.readlines():\n",
    "    node = line.strip()\n",
    "    if node in g1:\n",
    "        g1.add_edge('4932.YJR104C', node)\n",
    "        new_interactions.append(node)\n",
    "file.close()\n",
    "print(new_interactions)"
   ]
  },
  {
   "cell_type": "code",
   "execution_count": null,
   "id": "07c0eef5",
   "metadata": {},
   "outputs": [],
   "source": [
    "#run robust community function on relevant nodes in the 'mutantinteractions' list. \n",
    "robust_community('4932.YDL106C',g1)"
   ]
  },
  {
   "cell_type": "code",
   "execution_count": 30,
   "id": "8babab4e",
   "metadata": {},
   "outputs": [
    {
     "name": "stdout",
     "output_type": "stream",
     "text": [
      "Number of nodes = 497\n"
     ]
    }
   ],
   "source": [
    "#Fine tune choice of threshold by inspecting above plot\n",
    "threshold=80 #choose different thresholds to test when the number of nodes drops to a stable number\n",
    "freq_dict_filtered = dict((k, v) for k, v in freq_dict.items() if v > threshold)\n",
    "print('Number of nodes =',len(freq_dict_filtered))\n",
    "#Run the below to get the robust community once a good threshold has been chosen\n",
    "# print('Robust community =',freq_dict_filtered.keys())"
   ]
  }
 ],
 "metadata": {
  "kernelspec": {
   "display_name": "Python 3 (ipykernel)",
   "language": "python",
   "name": "python3"
  },
  "language_info": {
   "codemirror_mode": {
    "name": "ipython",
    "version": 3
   },
   "file_extension": ".py",
   "mimetype": "text/x-python",
   "name": "python",
   "nbconvert_exporter": "python",
   "pygments_lexer": "ipython3",
   "version": "3.9.5"
  }
 },
 "nbformat": 4,
 "nbformat_minor": 5
}
