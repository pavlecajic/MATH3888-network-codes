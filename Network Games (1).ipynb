{
 "cells": [
  {
   "cell_type": "code",
   "execution_count": 220,
   "id": "eccb4bef",
   "metadata": {},
   "outputs": [],
   "source": [
    "import networkx as nx\n",
    "from community import community_louvain as cm\n",
    "import pandas as pd\n",
    "import numpy as np\n",
    "import scipy as sp\n",
    "from scipy.linalg import expm, sinm, cosm"
   ]
  },
  {
   "cell_type": "code",
   "execution_count": 245,
   "id": "76709157",
   "metadata": {},
   "outputs": [],
   "source": [
    "def subgraph(A):\n",
    "    \"This returns the subgraph centrality matrix\"\n",
    "    from numpy import linalg as LA\n",
    "    w, v = LA.eig(A)\n",
    "    w=[l/max(w,key=abs) for l in w]\n",
    "    expdiag=[np.exp(l) for l in w]\n",
    "    intermediate=np.matmul(v,np.diag(expdiag))\n",
    "    subgraphmat=np.matmul(intermediate,np.linalg.inv(v))\n",
    "    subgraphmat=subgraphmat.real\n",
    "    return subgraphmat;\n",
    "   "
   ]
  },
  {
   "cell_type": "code",
   "execution_count": 223,
   "id": "d8cf1e0e",
   "metadata": {},
   "outputs": [],
   "source": [
    "# read yeast protein interaction file\n",
    "g = nx.read_weighted_edgelist(\"4932.protein.links.v11.5.txt\",comments=\"#\",nodetype=str)"
   ]
  },
  {
   "cell_type": "code",
   "execution_count": 224,
   "id": "56924992",
   "metadata": {},
   "outputs": [],
   "source": [
    "# thresholding\n",
    "threshold_score = 750\n",
    "for edge in g.edges: \n",
    "    weight = list(g.get_edge_data(edge[0],edge[1]).values())\n",
    "    if(weight[0] <= threshold_score):\n",
    "        g.remove_edge(edge[0],edge[1])"
   ]
  },
  {
   "cell_type": "code",
   "execution_count": 225,
   "id": "ca3614dd",
   "metadata": {
    "scrolled": true
   },
   "outputs": [],
   "source": [
    "#remove essential nodes\n",
    "file = open(\"essential_nodes.txt\")\n",
    "for line in file.readlines():\n",
    "    node = line.strip()\n",
    "    if node in g:\n",
    "        g.remove_node(node)\n",
    "file.close()"
   ]
  },
  {
   "cell_type": "code",
   "execution_count": 226,
   "id": "e397795c",
   "metadata": {},
   "outputs": [
    {
     "name": "stdout",
     "output_type": "stream",
     "text": [
      "number of nodes of largest connected subgraph of g: 4396\n"
     ]
    }
   ],
   "source": [
    "#select largest component\n",
    "largestcc = max(nx.connected_components(g),key=len)\n",
    "g = g.subgraph(largestcc)\n",
    "Adj = nx.to_numpy_array(g)\n",
    "print('number of nodes of largest connected subgraph of g:',g.number_of_nodes())"
   ]
  },
  {
   "cell_type": "code",
   "execution_count": 227,
   "id": "51c9a4a6",
   "metadata": {},
   "outputs": [],
   "source": [
    "# louvain partition\n",
    "partition = cm.best_partition(g, random_state=284)"
   ]
  },
  {
   "cell_type": "code",
   "execution_count": 228,
   "id": "355281a9",
   "metadata": {},
   "outputs": [
    {
     "name": "stdout",
     "output_type": "stream",
     "text": [
      "[8, 101, 192, 233, 421, 200, 309, 317, 248, 32, 327, 10, 295, 146, 145, 548, 207, 41, 377, 85]\n",
      "There are 20 modules.\n"
     ]
    }
   ],
   "source": [
    "modsizes=[]\n",
    "for i in range(0,max(list(partition.values()))):\n",
    "    modsizes.append(list(partition.values()).count(i))\n",
    "print(modsizes)\n",
    "print('There are',len(modsizes),'modules.')"
   ]
  },
  {
   "cell_type": "code",
   "execution_count": 234,
   "id": "3662620a",
   "metadata": {},
   "outputs": [
    {
     "data": {
      "text/plain": [
       "20"
      ]
     },
     "execution_count": 234,
     "metadata": {},
     "output_type": "execute_result"
    }
   ],
   "source": [
    "len(modsizes)"
   ]
  },
  {
   "cell_type": "code",
   "execution_count": 238,
   "id": "119245e2",
   "metadata": {},
   "outputs": [],
   "source": [
    "partitems=list(partition.items())\n",
    "summary = [\"Module;Nodes in module\"]\n",
    "for j in range(0,len(modsizes)):\n",
    "    proteins_in_mod=[]\n",
    "    for i in range(0,len(partitems)):\n",
    "        if partitems[i][1]==j:\n",
    "            proteins_in_mod.append(partitems[i][0])\n",
    "    string='proteins in mod {} ='.format(j)        \n",
    "    # generate summary\n",
    "    summary.append(\"{};{}\".format(j, proteins_in_mod))\n"
   ]
  },
  {
   "cell_type": "code",
   "execution_count": 240,
   "id": "bc3432cf",
   "metadata": {},
   "outputs": [],
   "source": [
    "with open(\"communities list.csv\", \"w\") as file:\n",
    "    file.write(\"\\n\".join(summary))"
   ]
  },
  {
   "cell_type": "code",
   "execution_count": 230,
   "id": "0b65c35e",
   "metadata": {},
   "outputs": [
    {
     "name": "stdout",
     "output_type": "stream",
     "text": [
      "SOD is node 247\n",
      "SOD1 is in module 7\n",
      "Module 7 has 317 nodes\n"
     ]
    }
   ],
   "source": [
    "partvals=list(partition.values())\n",
    "newgnodes=list(g.nodes())\n",
    "SOD1_index=newgnodes.index('4932.YJR104C')\n",
    "newgnodes[SOD1_index]\n",
    "SOD1_module=partvals[SOD1_index]\n",
    "print('SOD is node',SOD1_index)\n",
    "print('SOD1 is in module',SOD1_module)\n",
    "print('Module',SOD1_module,'has',modsizes[SOD1_module],'nodes')"
   ]
  },
  {
   "cell_type": "code",
   "execution_count": 236,
   "id": "9c4ea997",
   "metadata": {},
   "outputs": [],
   "source": [
    "SOD1modnodes=[]\n",
    "for i in range(0,len(partitems)):\n",
    "    if partitems[i][1]==SOD1_module:\n",
    "        SOD1modnodes.append([partitems[i][0],i,])"
   ]
  },
  {
   "cell_type": "code",
   "execution_count": 244,
   "id": "d064a363",
   "metadata": {},
   "outputs": [
    {
     "name": "stderr",
     "output_type": "stream",
     "text": [
      "C:\\Users\\cajic\\AppData\\Local\\Temp/ipykernel_16828/81381562.py:5: RuntimeWarning: overflow encountered in exp\n",
      "  expdiag=[np.exp(l) for l in w]\n",
      "C:\\Users\\cajic\\AppData\\Local\\Temp/ipykernel_16828/81381562.py:6: RuntimeWarning: invalid value encountered in matmul\n",
      "  intermediate=np.matmul(v,np.diag(expdiag))\n"
     ]
    },
    {
     "ename": "KeyboardInterrupt",
     "evalue": "",
     "output_type": "error",
     "traceback": [
      "\u001b[1;31m---------------------------------------------------------------------------\u001b[0m",
      "\u001b[1;31mKeyboardInterrupt\u001b[0m                         Traceback (most recent call last)",
      "\u001b[1;32m~\\AppData\\Local\\Temp/ipykernel_16828/802168745.py\u001b[0m in \u001b[0;36m<module>\u001b[1;34m\u001b[0m\n\u001b[1;32m----> 1\u001b[1;33m \u001b[0msubgraphmat\u001b[0m\u001b[1;33m=\u001b[0m\u001b[0msubgraph\u001b[0m\u001b[1;33m(\u001b[0m\u001b[0mAdj\u001b[0m\u001b[1;33m)\u001b[0m\u001b[1;33m\u001b[0m\u001b[1;33m\u001b[0m\u001b[0m\n\u001b[0m",
      "\u001b[1;32m~\\AppData\\Local\\Temp/ipykernel_16828/81381562.py\u001b[0m in \u001b[0;36msubgraph\u001b[1;34m(A)\u001b[0m\n\u001b[0;32m      5\u001b[0m     \u001b[0mexpdiag\u001b[0m\u001b[1;33m=\u001b[0m\u001b[1;33m[\u001b[0m\u001b[0mnp\u001b[0m\u001b[1;33m.\u001b[0m\u001b[0mexp\u001b[0m\u001b[1;33m(\u001b[0m\u001b[0ml\u001b[0m\u001b[1;33m)\u001b[0m \u001b[1;32mfor\u001b[0m \u001b[0ml\u001b[0m \u001b[1;32min\u001b[0m \u001b[0mw\u001b[0m\u001b[1;33m]\u001b[0m\u001b[1;33m\u001b[0m\u001b[1;33m\u001b[0m\u001b[0m\n\u001b[0;32m      6\u001b[0m     \u001b[0mintermediate\u001b[0m\u001b[1;33m=\u001b[0m\u001b[0mnp\u001b[0m\u001b[1;33m.\u001b[0m\u001b[0mmatmul\u001b[0m\u001b[1;33m(\u001b[0m\u001b[0mv\u001b[0m\u001b[1;33m,\u001b[0m\u001b[0mnp\u001b[0m\u001b[1;33m.\u001b[0m\u001b[0mdiag\u001b[0m\u001b[1;33m(\u001b[0m\u001b[0mexpdiag\u001b[0m\u001b[1;33m)\u001b[0m\u001b[1;33m)\u001b[0m\u001b[1;33m\u001b[0m\u001b[1;33m\u001b[0m\u001b[0m\n\u001b[1;32m----> 7\u001b[1;33m     \u001b[0msubgraphmat\u001b[0m\u001b[1;33m=\u001b[0m\u001b[0mnp\u001b[0m\u001b[1;33m.\u001b[0m\u001b[0mmatmul\u001b[0m\u001b[1;33m(\u001b[0m\u001b[0mintermediate\u001b[0m\u001b[1;33m,\u001b[0m\u001b[0mnp\u001b[0m\u001b[1;33m.\u001b[0m\u001b[0mlinalg\u001b[0m\u001b[1;33m.\u001b[0m\u001b[0minv\u001b[0m\u001b[1;33m(\u001b[0m\u001b[0mv\u001b[0m\u001b[1;33m)\u001b[0m\u001b[1;33m)\u001b[0m\u001b[1;33m\u001b[0m\u001b[1;33m\u001b[0m\u001b[0m\n\u001b[0m\u001b[0;32m      8\u001b[0m     \u001b[0msubgraphmat\u001b[0m\u001b[1;33m=\u001b[0m\u001b[0msubgraphmat\u001b[0m\u001b[1;33m.\u001b[0m\u001b[0mreal\u001b[0m\u001b[1;33m\u001b[0m\u001b[1;33m\u001b[0m\u001b[0m\n\u001b[0;32m      9\u001b[0m     \u001b[1;32mreturn\u001b[0m \u001b[0msubgraphmat\u001b[0m\u001b[1;33m;\u001b[0m\u001b[1;33m\u001b[0m\u001b[1;33m\u001b[0m\u001b[0m\n",
      "\u001b[1;32m~\\miniconda3\\lib\\warnings.py\u001b[0m in \u001b[0;36m__init__\u001b[1;34m(self, message, category, filename, lineno, file, line, source)\u001b[0m\n\u001b[0;32m    401\u001b[0m                         \"line\", \"source\")\n\u001b[0;32m    402\u001b[0m \u001b[1;33m\u001b[0m\u001b[0m\n\u001b[1;32m--> 403\u001b[1;33m     def __init__(self, message, category, filename, lineno, file=None,\n\u001b[0m\u001b[0;32m    404\u001b[0m                  line=None, source=None):\n\u001b[0;32m    405\u001b[0m         \u001b[0mself\u001b[0m\u001b[1;33m.\u001b[0m\u001b[0mmessage\u001b[0m \u001b[1;33m=\u001b[0m \u001b[0mmessage\u001b[0m\u001b[1;33m\u001b[0m\u001b[1;33m\u001b[0m\u001b[0m\n",
      "\u001b[1;31mKeyboardInterrupt\u001b[0m: "
     ]
    }
   ],
   "source": [
    "subgraphmat=subgraph(Adj)"
   ]
  },
  {
   "cell_type": "code",
   "execution_count": 250,
   "id": "fd59fc3e",
   "metadata": {},
   "outputs": [],
   "source": [
    "# generate relative subgraph centrality dictionary for proteins in SOD1's module\n",
    "summary2 = {}\n",
    "for entry in SOD1modnodes:\n",
    "    summary2[entry[0]]=subgraphmat[entry[1],SOD1_index]\n",
    "#Sort in descending subgraph centrality order\n",
    "summary2=[\"{};{}\".format(k,v) for k, v in sorted(summary2.items(), key=lambda item: item[1],reverse=True)]"
   ]
  },
  {
   "cell_type": "code",
   "execution_count": 252,
   "id": "9db88baf",
   "metadata": {},
   "outputs": [],
   "source": [
    "with open(\"relative subgraph centralities in SOD1 community.csv\", \"w\") as file:\n",
    "    file.write(\"\\n\".join(summary2))"
   ]
  },
  {
   "cell_type": "code",
   "execution_count": 253,
   "id": "59c7c930",
   "metadata": {},
   "outputs": [],
   "source": [
    "# generate subgraph centrality dictionary for proteins in SOD1's module\n",
    "summary3 = {}\n",
    "for entry in SOD1modnodes:\n",
    "    summary3[entry[0]]=subgraphmat[entry[1],entry[1]]\n",
    "#Sort in descending subgraph centrality order\n",
    "summary3=[\"{};{}\".format(k,v) for k, v in sorted(summary3.items(), key=lambda item: item[1],reverse=True)]"
   ]
  },
  {
   "cell_type": "code",
   "execution_count": 254,
   "id": "c4725f2c",
   "metadata": {},
   "outputs": [],
   "source": [
    "with open(\"usual subgraph centralities in SOD1 community.csv\", \"w\") as file:\n",
    "    file.write(\"\\n\".join(summary3))"
   ]
  }
 ],
 "metadata": {
  "kernelspec": {
   "display_name": "Python 3 (ipykernel)",
   "language": "python",
   "name": "python3"
  },
  "language_info": {
   "codemirror_mode": {
    "name": "ipython",
    "version": 3
   },
   "file_extension": ".py",
   "mimetype": "text/x-python",
   "name": "python",
   "nbconvert_exporter": "python",
   "pygments_lexer": "ipython3",
   "version": "3.9.5"
  }
 },
 "nbformat": 4,
 "nbformat_minor": 5
}
