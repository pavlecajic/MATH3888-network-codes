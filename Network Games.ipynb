{
 "cells": [
  {
   "cell_type": "code",
   "execution_count": 220,
   "id": "eccb4bef",
   "metadata": {},
   "outputs": [],
   "source": [
    "import networkx as nx\n",
    "from community import community_louvain as cm\n",
    "import pandas as pd\n",
    "import numpy as np\n",
    "import scipy as sp\n",
    "from scipy.linalg import expm, sinm, cosm"
   ]
  },
  {
   "cell_type": "code",
   "execution_count": 221,
   "id": "76709157",
   "metadata": {},
   "outputs": [],
   "source": [
    "def subgraph(A):\n",
    "    \"This returns the subgraph centrality matrix\"\n",
    "    from numpy import linalg as LA\n",
    "    w, v = LA.eig(A)\n",
    "    w=[l/max(w,key=abs) for l in w]\n",
    "    expdiag=[np.exp(l) for l in w]\n",
    "    intermediate=np.matmul(v,np.diag(expdiag))\n",
    "    subgraphmat=np.matmul(intermediate,np.linalg.inv(v))\n",
    "    subgraphmat=subgraphmat.real\n",
    "    return subgraphmat;\n",
    "   "
   ]
  },
  {
   "cell_type": "code",
   "execution_count": 223,
   "id": "d8cf1e0e",
   "metadata": {},
   "outputs": [],
   "source": [
    "# read yeast protein interaction file\n",
    "g = nx.read_weighted_edgelist(\"4932.protein.links.v11.5.txt\",comments=\"#\",nodetype=str)"
   ]
  },
  {
   "cell_type": "code",
   "execution_count": 224,
   "id": "56924992",
   "metadata": {},
   "outputs": [],
   "source": [
    "# thresholding\n",
    "threshold_score = 750\n",
    "for edge in g.edges: \n",
    "    weight = list(g.get_edge_data(edge[0],edge[1]).values())\n",
    "    if(weight[0] <= threshold_score):\n",
    "        g.remove_edge(edge[0],edge[1])"
   ]
  },
  {
   "cell_type": "code",
   "execution_count": 225,
   "id": "ca3614dd",
   "metadata": {
    "scrolled": true
   },
   "outputs": [],
   "source": [
    "#remove essential nodes\n",
    "file = open(\"essential_nodes.txt\")\n",
    "for line in file.readlines():\n",
    "    node = line.strip()\n",
    "    if node in g:\n",
    "        g.remove_node(node)\n",
    "file.close()"
   ]
  },
  {
   "cell_type": "code",
   "execution_count": 226,
   "id": "d75f8616",
   "metadata": {},
   "outputs": [
    {
     "name": "stdout",
     "output_type": "stream",
     "text": [
      "number of nodes of largest connected subgraph of g: 4396\n"
     ]
    }
   ],
   "source": [
    "#select largest component\n",
    "largestcc = max(nx.connected_components(g),key=len)\n",
    "g = g.subgraph(largestcc)\n",
    "Adj = nx.to_numpy_array(g)\n",
    "print('number of nodes of largest connected subgraph of g:',g.number_of_nodes())"
   ]
  },
  {
   "cell_type": "code",
   "execution_count": 227,
   "id": "51c9a4a6",
   "metadata": {},
   "outputs": [],
   "source": [
    "# louvain partition\n",
    "partition = cm.best_partition(g, random_state=284)"
   ]
  },
  {
   "cell_type": "code",
   "execution_count": 228,
   "id": "bc39b45d",
   "metadata": {},
   "outputs": [
    {
     "name": "stdout",
     "output_type": "stream",
     "text": [
      "[8, 101, 192, 233, 421, 200, 309, 317, 248, 32, 327, 10, 295, 146, 145, 548, 207, 41, 377, 85]\n",
      "There are 20 modules.\n"
     ]
    }
   ],
   "source": [
    "modsizes=[]\n",
    "for i in range(0,max(list(partition.values()))):\n",
    "    modsizes.append(list(partition.values()).count(i))\n",
    "print(modsizes)\n",
    "print('There are',len(modsizes),'modules.')"
   ]
  },
  {
   "cell_type": "code",
   "execution_count": 234,
   "id": "a4ad2db2",
   "metadata": {},
   "outputs": [
    {
     "data": {
      "text/plain": [
       "20"
      ]
     },
     "execution_count": 234,
     "metadata": {},
     "output_type": "execute_result"
    }
   ],
   "source": [
    "len(modsizes)"
   ]
  },
  {
   "cell_type": "code",
   "execution_count": 238,
   "id": "3259bb01",
   "metadata": {},
   "outputs": [],
   "source": [
    "partitems=list(partition.items())\n",
    "summary = [\"Module;Nodes in module\"]\n",
    "for j in range(0,len(modsizes)):\n",
    "    proteins_in_mod=[]\n",
    "    for i in range(0,len(partitems)):\n",
    "        if partitems[i][1]==j:\n",
    "            proteins_in_mod.append(partitems[i][0])\n",
    "    string='proteins in mod {} ='.format(j)        \n",
    "    # generate summary\n",
    "    summary.append(\"{};{}\".format(j, proteins_in_mod))\n"
   ]
  },
  {
   "cell_type": "code",
   "execution_count": 240,
   "id": "826eddf0",
   "metadata": {},
   "outputs": [],
   "source": [
    "with open(\"communities list.csv\", \"w\") as file:\n",
    "    file.write(\"\\n\".join(summary))"
   ]
  },
  {
   "cell_type": "code",
   "execution_count": 230,
   "id": "0b65c35e",
   "metadata": {},
   "outputs": [
    {
     "name": "stdout",
     "output_type": "stream",
     "text": [
      "SOD is node 247\n",
      "SOD1 is in module 7\n",
      "Module 7 has 317 nodes\n"
     ]
    }
   ],
   "source": [
    "partvals=list(partition.values())\n",
    "newgnodes=list(g.nodes())\n",
    "SOD1_index=newgnodes.index('4932.YJR104C')\n",
    "newgnodes[SOD1_index]\n",
    "SOD1_module=partvals[SOD1_index]\n",
    "print('SOD is node',SOD1_index)\n",
    "print('SOD1 is in module',SOD1_module)\n",
    "print('Module',SOD1_module,'has',modsizes[SOD1_module],'nodes')"
   ]
  },
  {
   "cell_type": "code",
   "execution_count": 236,
   "id": "cff3d7fb",
   "metadata": {},
   "outputs": [],
   "source": [
    "SOD1modnodes=[]\n",
    "for i in range(0,len(partitems)):\n",
    "    if partitems[i][1]==SOD1_module:\n",
    "        SOD1modnodes.append([partitems[i][0],i,])"
   ]
  },
  {
   "cell_type": "code",
   "execution_count": 232,
   "id": "809d68bc",
   "metadata": {},
   "outputs": [],
   "source": [
    "subgraphmat=subgraph(Adj)"
   ]
  },
  {
   "cell_type": "code",
   "execution_count": 217,
   "id": "693c597a",
   "metadata": {},
   "outputs": [],
   "source": [
    "# generate subgraph centrality dictionary for proteins in SOD1's module\n",
    "summary = {}\n",
    "for entry in SOD1modnodes:\n",
    "    summary[entry[1]]=subgraphmat[entry[1],SOD1_index]\n",
    "#Sort in descending subgraph centrality order\n",
    "summary=[\"{};{}\".format(k,v) for k, v in sorted(summary.items(), key=lambda item: item[1],reverse=True)]"
   ]
  },
  {
   "cell_type": "code",
   "execution_count": 219,
   "id": "7351ba9e",
   "metadata": {},
   "outputs": [],
   "source": [
    "with open(\"relative subgraph centralities in SOD1 community.csv\", \"w\") as file:\n",
    "    file.write(\"\\n\".join(summary))"
   ]
  }
 ],
 "metadata": {
  "kernelspec": {
   "display_name": "Python 3 (ipykernel)",
   "language": "python",
   "name": "python3"
  },
  "language_info": {
   "codemirror_mode": {
    "name": "ipython",
    "version": 3
   },
   "file_extension": ".py",
   "mimetype": "text/x-python",
   "name": "python",
   "nbconvert_exporter": "python",
   "pygments_lexer": "ipython3",
   "version": "3.9.5"
  }
 },
 "nbformat": 4,
 "nbformat_minor": 5
}
