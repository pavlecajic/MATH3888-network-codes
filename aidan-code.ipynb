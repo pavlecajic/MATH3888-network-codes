{
 "cells": [
  {
   "cell_type": "code",
   "execution_count": 20,
   "metadata": {},
   "outputs": [],
   "source": [
    "import networkx as nx\n",
    "from community import community_louvain as cm\n",
    "import numpy as np\n",
    "import scipy as sp\n",
    "from numpy import linalg as la"
   ]
  },
  {
   "cell_type": "code",
   "execution_count": 21,
   "metadata": {},
   "outputs": [],
   "source": [
    "def participation_coefficient(graph, partition):\n",
    "    \"\"\"return a dictionary with {node:participation_coefficent}\"\"\"\n",
    "    #input: partition is a dictionary, {node:module}\n",
    "    pc_dict = {}\n",
    "    N = max(partition.values()) + 1\n",
    "    for v in graph:\n",
    "        k_is = [0]*N\n",
    "        for w in graph.neighbors(v):\n",
    "            k_is[partition[w]] += 1\n",
    "        pc_dict[v] = 1 - sum(i**2 for i in k_is)/ graph.degree(v)**2\n",
    "    return pc_dict"
   ]
  },
  {
   "cell_type": "code",
   "execution_count": 22,
   "metadata": {},
   "outputs": [],
   "source": [
    "def proximity_to_sod1(g):\n",
    "    d = {}\n",
    "    for node in g:\n",
    "        d[node] = nx.shortest_path_length(g, '4932.YJR104C', node)\n",
    "    return d"
   ]
  },
  {
   "cell_type": "code",
   "execution_count": 23,
   "metadata": {},
   "outputs": [],
   "source": [
    "def sc_matrix(g):\n",
    "    \"\"\"Return the subgraph centrality matrix\"\"\"\n",
    "    A = nx.to_numpy_array(g) # adjacency matrix\n",
    "    w, v = la.eig(A)\n",
    "    w=[l/max(w,key=abs) for l in w]\n",
    "    expdiag=[np.exp(l) for l in w]\n",
    "    intermediate=np.matmul(v,np.diag(expdiag))\n",
    "    subgraphmat=np.matmul(intermediate,np.linalg.inv(v))\n",
    "    subgraphmat=subgraphmat.real\n",
    "    return subgraphmat;"
   ]
  },
  {
   "cell_type": "code",
   "execution_count": 24,
   "metadata": {},
   "outputs": [],
   "source": [
    "def relative_subgraph_centrality(g):\n",
    "    rsc = {}\n",
    "    A = sc_matrix(g)\n",
    "    i = 0\n",
    "    s = list(g.nodes()).index('4932.YJR104C') #index of sod1 (247 apparently)\n",
    "    for node in g:\n",
    "        rsc[node] = A[i, s]\n",
    "        i += 1\n",
    "    return rsc"
   ]
  },
  {
   "cell_type": "code",
   "execution_count": 25,
   "metadata": {},
   "outputs": [],
   "source": [
    "# read yeast protein interaction file\n",
    "g = nx.read_weighted_edgelist(\"4932.protein.links.v11.5.txt\",comments=\"#\",nodetype=str)"
   ]
  },
  {
   "cell_type": "code",
   "execution_count": 26,
   "metadata": {},
   "outputs": [],
   "source": [
    "# thresholding\n",
    "threshold_score = 750\n",
    "for edge in g.edges: \n",
    "    weight = list(g.get_edge_data(edge[0],edge[1]).values())\n",
    "    if(weight[0] <= threshold_score):\n",
    "        g.remove_edge(edge[0],edge[1])"
   ]
  },
  {
   "cell_type": "code",
   "execution_count": 27,
   "metadata": {},
   "outputs": [],
   "source": [
    "#remove essential nodes\n",
    "file = open(\"essential_nodes.txt\")\n",
    "for line in file.readlines():\n",
    "    node = line.strip()\n",
    "    if node in g:\n",
    "        g.remove_node(node)\n",
    "file.close()"
   ]
  },
  {
   "cell_type": "code",
   "execution_count": 28,
   "metadata": {},
   "outputs": [],
   "source": [
    "#select largest component\n",
    "components = sorted(nx.connected_components(g), key=len, reverse=True)\n",
    "g = g.subgraph(components[0])"
   ]
  },
  {
   "cell_type": "code",
   "execution_count": 29,
   "metadata": {},
   "outputs": [],
   "source": [
    "# louvain partition\n",
    "partition = cm.best_partition(g, random_state=284)"
   ]
  },
  {
   "cell_type": "code",
   "execution_count": 30,
   "metadata": {},
   "outputs": [],
   "source": [
    "# calculate participation coefficients\n",
    "pc = participation_coefficient(g, partition)"
   ]
  },
  {
   "cell_type": "code",
   "execution_count": 31,
   "metadata": {},
   "outputs": [],
   "source": [
    "# calculate subgraph centralities\n",
    "sc = nx.subgraph_centrality(g)"
   ]
  },
  {
   "cell_type": "code",
   "execution_count": 32,
   "metadata": {},
   "outputs": [],
   "source": [
    "# calculate proximites to SOD1\n",
    "prox = proximity_to_sod1(g)"
   ]
  },
  {
   "cell_type": "code",
   "execution_count": 33,
   "metadata": {},
   "outputs": [],
   "source": [
    "# calculate relative subgraph centralities\n",
    "rsc = relative_subgraph_centrality(g)"
   ]
  },
  {
   "cell_type": "code",
   "execution_count": 36,
   "metadata": {},
   "outputs": [],
   "source": [
    "# generate summary\n",
    "summary = [\"Node,Community,Proximity to SOD1,Relative subgraph centrality,Subgraph centrality,Participation coefficient\"]\n",
    "for node in g:\n",
    "    summary.append(\"{},{},{},{},{},{}\".format(node, partition[node], prox[node], rsc[node], sc[node], pc[node]))"
   ]
  },
  {
   "cell_type": "code",
   "execution_count": 37,
   "metadata": {},
   "outputs": [],
   "source": [
    "#write summary to file\n",
    "with open(\"summary.csv\", \"w\") as file:\n",
    "    file.write(\"\\n\".join(summary))"
   ]
  }
 ],
 "metadata": {
  "kernelspec": {
   "display_name": "Python 3",
   "language": "python",
   "name": "python3"
  },
  "language_info": {
   "codemirror_mode": {
    "name": "ipython",
    "version": 3
   },
   "file_extension": ".py",
   "mimetype": "text/x-python",
   "name": "python",
   "nbconvert_exporter": "python",
   "pygments_lexer": "ipython3",
   "version": "3.8.10"
  }
 },
 "nbformat": 4,
 "nbformat_minor": 4
}
