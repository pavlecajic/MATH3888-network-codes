{
 "cells": [
  {
   "cell_type": "code",
   "execution_count": 1,
   "metadata": {},
   "outputs": [],
   "source": [
    "import networkx as nx\n",
    "from community import community_louvain as cm"
   ]
  },
  {
   "cell_type": "code",
   "execution_count": 2,
   "metadata": {},
   "outputs": [],
   "source": [
    "def pc(graph, partition):\n",
    "    \"\"\"return a dictionary with {node:participation_coefficent}\"\"\"\n",
    "    #input: partition is a dictionary, {node:module}\n",
    "    pc_dict = {}\n",
    "    N = max(partition.values()) + 1\n",
    "    for v in graph:\n",
    "        k_is = [0]*N\n",
    "        for w in graph.neighbors(v):\n",
    "            k_is[partition[w]] += 1\n",
    "        pc_dict[v] = 1 - sum(i**2 for i in k_is)/ graph.degree(v)**2\n",
    "    return pc_dict"
   ]
  },
  {
   "cell_type": "code",
   "execution_count": 3,
   "metadata": {},
   "outputs": [],
   "source": [
    "# read yeast protein interaction file\n",
    "g = nx.read_weighted_edgelist(\"4932.protein.links.v11.5.txt\",comments=\"#\",nodetype=str)"
   ]
  },
  {
   "cell_type": "code",
   "execution_count": 4,
   "metadata": {},
   "outputs": [],
   "source": [
    "# thresholding\n",
    "threshold_score = 750\n",
    "for edge in g.edges: \n",
    "    weight = list(g.get_edge_data(edge[0],edge[1]).values())\n",
    "    if(weight[0] <= threshold_score):\n",
    "        g.remove_edge(edge[0],edge[1])"
   ]
  },
  {
   "cell_type": "code",
   "execution_count": 5,
   "metadata": {},
   "outputs": [],
   "source": [
    "#remove essential nodes\n",
    "file = open(\"essential_nodes.txt\")\n",
    "for line in file.readlines():\n",
    "    node = line.strip()\n",
    "    if node in g:\n",
    "        g.remove_node(node)\n",
    "file.close()"
   ]
  },
  {
   "cell_type": "code",
   "execution_count": 6,
   "metadata": {},
   "outputs": [],
   "source": [
    "#select largest component\n",
    "components = sorted(nx.connected_components(g), key=len, reverse=True)\n",
    "g = g.subgraph(components[0])"
   ]
  },
  {
   "cell_type": "code",
   "execution_count": 7,
   "metadata": {},
   "outputs": [],
   "source": [
    "# louvain partition\n",
    "partition = cm.best_partition(g, random_state=284)"
   ]
  },
  {
   "cell_type": "code",
   "execution_count": 8,
   "metadata": {},
   "outputs": [],
   "source": [
    "# calculate participation coefficients\n",
    "pc_dict = pc(g, partition)"
   ]
  },
  {
   "cell_type": "code",
   "execution_count": 9,
   "metadata": {},
   "outputs": [],
   "source": [
    "# generate summary\n",
    "summary = [\"Node,Community,Participation Coefficient\"]\n",
    "for node in g:\n",
    "    summary.append(\"{},{},{}\".format(node, partition[node], pc_dict[node]))"
   ]
  },
  {
   "cell_type": "code",
   "execution_count": 10,
   "metadata": {},
   "outputs": [],
   "source": [
    "with open(\"summary.csv\", \"w\") as file:\n",
    "    file.write(\"\\n\".join(summary))"
   ]
  },
  {
   "cell_type": "code",
   "execution_count": 11,
   "metadata": {},
   "outputs": [
    {
     "name": "stdout",
     "output_type": "stream",
     "text": [
      "Graph with 4396 nodes and 44311 edges\n"
     ]
    }
   ],
   "source": [
    "print(g)"
   ]
  }
 ],
 "metadata": {
  "kernelspec": {
   "display_name": "Python 3",
   "language": "python",
   "name": "python3"
  },
  "language_info": {
   "codemirror_mode": {
    "name": "ipython",
    "version": 3
   },
   "file_extension": ".py",
   "mimetype": "text/x-python",
   "name": "python",
   "nbconvert_exporter": "python",
   "pygments_lexer": "ipython3",
   "version": "3.8.10"
  }
 },
 "nbformat": 4,
 "nbformat_minor": 4
}
